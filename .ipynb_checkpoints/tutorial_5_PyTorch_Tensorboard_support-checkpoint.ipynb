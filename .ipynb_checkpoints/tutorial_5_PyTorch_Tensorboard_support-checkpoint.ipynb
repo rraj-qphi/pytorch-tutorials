{
 "cells": [
  {
   "cell_type": "markdown",
   "id": "fe320948",
   "metadata": {},
   "source": [
    "# PYTORCH TENSORBOARD SUPPORT"
   ]
  },
  {
   "cell_type": "markdown",
   "id": "03b2e2c2",
   "metadata": {},
   "source": [
    "INtroduction\n",
    "\n",
    "We will be training a varient of LeNet-5 against Fashion-MNIST dataset. It is a set of image tiles depicting various garments"
   ]
  },
  {
   "cell_type": "code",
   "execution_count": 2,
   "id": "3970547c",
   "metadata": {},
   "outputs": [],
   "source": [
    "#PyTorch Model and training necessities\n",
    "import torch\n",
    "import torch.nn as nn\n",
    "import torch.nn.functional as F\n",
    "import torch.optim as optim\n",
    "\n",
    "#Image datasets adn image manipulations\n",
    "import torchvision\n",
    "import torchvision.transforms as transforms\n",
    "\n",
    "# Image display\n",
    "import matplotlib.pyplot as plt\n",
    "import numpy as np\n",
    "\n",
    "#PyTorch TensorBoard support\n",
    "from torch.utils.tensorboard import SummaryWriter"
   ]
  },
  {
   "cell_type": "markdown",
   "id": "3f228399",
   "metadata": {},
   "source": [
    "Showing Images in Tensorbaord"
   ]
  },
  {
   "cell_type": "code",
   "execution_count": 7,
   "id": "dc73f4b3",
   "metadata": {},
   "outputs": [
    {
     "data": {
      "image/png": "[encoded data removed]",
      "text/plain": [
       "<Figure size 640x480 with 1 Axes>"
      ]
     },
     "metadata": {},
     "output_type": "display_data"
    }
   ],
   "source": [
    "#Gather datsets and prepare them for consumption\n",
    "transform = transforms.Compose(\n",
    "    [transforms.ToTensor(),\n",
    "     transforms.Normalize((0.5,), (0.5,))])\n",
    "\n",
    "# Store separate training and validation splits in ./data\n",
    "training_set = torchvision.datasets.FashionMNIST('./data', \n",
    "                                                download=True,\n",
    "                                                train=True,\n",
    "                                                transform=transform)\n",
    "validation_set = torchvision.datasets.FashionMNIST('./data', \n",
    "                                                  download=True,\n",
    "                                                  train=False,\n",
    "                                                  transform=transform)\n",
    "\n",
    "training_loader = torch.utils.data.DataLoader(training_set,\n",
    "                                             batch_size=4,\n",
    "                                             shuffle=True,\n",
    "                                             num_workers=2)\n",
    "\n",
    "validation_loader = torch.utils.data.DataLoader(validation_set,\n",
    "                                               batch_size=4,\n",
    "                                               shuffle=False,\n",
    "                                               num_workers=2)\n",
    "\n",
    "# Class labels\n",
    "classes = ('T-shirt/top', 'Trouser', 'Pullover', 'Dress', 'Coat', 'Sandal',\n",
    "           'Shirt', 'Sneaker', 'Bag', 'Ankle boot')\n",
    " \n",
    "# Helper function for inline image display\n",
    "def matplotlib_imshow(img, one_channel=False):\n",
    "    if one_channel:\n",
    "        img = img.mean(dim=0)\n",
    "    img = img / 2 + 0.5  # unnormalize\n",
    "    npimg= img.numpy()\n",
    "    if one_channel:\n",
    "        plt.imshow(npimg, cmap=\"Greys\")\n",
    "    else:\n",
    "        plt.imshow(np.transpose(npimg, (1, 2, 0)))\n",
    "\n",
    "# Extract a batch of 4 images\n",
    "dataiter = iter(training_loader)\n",
    "images, labels = next(dataiter)\n",
    "\n",
    "# Creating a grid from the images and show them\n",
    "img_grid = torchvision.utils.make_grid(images)\n",
    "matplotlib_imshow(img_grid, one_channel=True)"
   ]
  },
  {
   "cell_type": "code",
   "execution_count": 8,
   "id": "8ca6d4db",
   "metadata": {},
   "outputs": [],
   "source": [
    "writer = SummaryWriter('runs/fashion_mnist_experiment_1')\n",
    "\n",
    "# Write image data to Tensorboard log dir\n",
    "writer.add_image('Four Fashion-MNIST Images', img_grid)\n",
    "writer.flush()"
   ]
  },
  {
   "cell_type": "markdown",
   "id": "c524c185",
   "metadata": {},
   "source": [
    "Graphing Scalars to Visualize Training"
   ]
  },
  {
   "cell_type": "markdown",
   "id": "9d66a0ee",
   "metadata": {},
   "source": [
    "TensorBoard is useful in tracking the progress and efficiency of the training model. \n",
    "\n",
    "\n",
    "\n",
    "\n",
    "\\n\\n\n",
    "\n",
    "Let's define a model to categorize image tiles, and an optimizer and loss function for training"
   ]
  },
  {
   "cell_type": "code",
   "execution_count": null,
   "id": "527ba2c8",
   "metadata": {},
   "outputs": [],
   "source": []
  },
  {
   "cell_type": "code",
   "execution_count": null,
   "id": "a4ec9973",
   "metadata": {},
   "outputs": [],
   "source": []
  }
 ],
 "metadata": {
  "kernelspec": {
   "display_name": "Python 3 (ipykernel)",
   "language": "python",
   "name": "python3"
  },
  "language_info": {
   "codemirror_mode": {
    "name": "ipython",
    "version": 3
   },
   "file_extension": ".py",
   "mimetype": "text/x-python",
   "name": "python",
   "nbconvert_exporter": "python",
   "pygments_lexer": "ipython3",
   "version": "3.8.13"
  }
 },
 "nbformat": 4,
 "nbformat_minor": 5
}
