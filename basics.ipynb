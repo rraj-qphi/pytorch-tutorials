{
 "cells": [
  {
   "cell_type": "code",
   "execution_count": 1,
   "id": "62020a62",
   "metadata": {},
   "outputs": [],
   "source": [
    "import torch"
   ]
  },
  {
   "cell_type": "code",
   "execution_count": 2,
   "id": "98ce7c62",
   "metadata": {},
   "outputs": [
    {
     "name": "stdout",
     "output_type": "stream",
     "text": [
      "tensor([[0., 0., 0.],\n",
      "        [0., 0., 0.],\n",
      "        [0., 0., 0.],\n",
      "        [0., 0., 0.],\n",
      "        [0., 0., 0.]])\n",
      "torch.float32\n"
     ]
    }
   ],
   "source": [
    "z = torch.zeros(5,3)   #A 5x3 matrix filled with zeros\n",
    "print(z)\n",
    "print(z.dtype)    # Zeros are 32-bit floating point numbers (default PyTorch)"
   ]
  },
  {
   "cell_type": "code",
   "execution_count": 3,
   "id": "d3d4fe4f",
   "metadata": {},
   "outputs": [
    {
     "name": "stdout",
     "output_type": "stream",
     "text": [
      "tensor([[1, 1, 1],\n",
      "        [1, 1, 1],\n",
      "        [1, 1, 1],\n",
      "        [1, 1, 1],\n",
      "        [1, 1, 1]], dtype=torch.int16)\n",
      "torch.int16\n"
     ]
    }
   ],
   "source": [
    "i = torch.ones((5,3), dtype=torch.int16) # A 5x3 matrix filled up with ones, set data type is int16\n",
    "print(i)\n",
    "print(i.dtype)"
   ]
  },
  {
   "cell_type": "code",
   "execution_count": 7,
   "id": "fb327c49",
   "metadata": {},
   "outputs": [
    {
     "name": "stdout",
     "output_type": "stream",
     "text": [
      "A random tensor:\n",
      "tensor([[0.3126, 0.3791],\n",
      "        [0.3087, 0.0736]])\n",
      "\n",
      "A different random tensor:\n",
      "tensor([[0.4216, 0.0691],\n",
      "        [0.2332, 0.4047]])\n",
      "\n",
      "Should match r1:\n",
      "tensor([[0.3126, 0.3791],\n",
      "        [0.3087, 0.0736]])\n"
     ]
    }
   ],
   "source": [
    "torch.manual_seed(1729)\n",
    "r1 = torch.rand(2,2)\n",
    "print('A random tensor:')\n",
    "print(r1)\n",
    "\n",
    "r2 = torch.rand(2,2)\n",
    "print('\\nA different random tensor:')\n",
    "print(r2)\n",
    "\n",
    "torch.manual_seed(1729)\n",
    "r3 = torch.rand(2,2)\n",
    "print('\\nShould match r1:')\n",
    "print(r3)"
   ]
  },
  {
   "cell_type": "code",
   "execution_count": 11,
   "id": "3e428b03",
   "metadata": {},
   "outputs": [
    {
     "name": "stdout",
     "output_type": "stream",
     "text": [
      "tensor([[1., 1., 1.],\n",
      "        [1., 1., 1.]])\n",
      "tensor([[2., 2., 2.],\n",
      "        [2., 2., 2.]])\n",
      "tensor([[3., 3., 3.],\n",
      "        [3., 3., 3.]])\n",
      "torch.Size([2, 3])\n"
     ]
    }
   ],
   "source": [
    "ones = torch.ones(2,3)\n",
    "print(ones)\n",
    "\n",
    "twos = torch.ones(2,3)*2\n",
    "print(twos)\n",
    "\n",
    "threes = ones + twos\n",
    "print(threes)\n",
    "print(threes.shape)\n",
    "\n",
    "r1 = torch.rand(2,3)\n",
    "r2 = torch.rand(2,3)\n",
    "r3 = r1+r2"
   ]
  },
  {
   "cell_type": "code",
   "execution_count": 12,
   "id": "82596a76",
   "metadata": {},
   "outputs": [
    {
     "name": "stdout",
     "output_type": "stream",
     "text": [
      "A random matrix, r:\n",
      "tensor([[-0.1344, -0.4793],\n",
      "        [-0.3135, -0.6386]])\n",
      "\n",
      "Absolute value of r:\n",
      "tensor([[0.1344, 0.4793],\n",
      "        [0.3135, 0.6386]])\n",
      "\n",
      "Inverse sine of r:\n",
      "tensor([[-0.1348, -0.4999],\n",
      "        [-0.3189, -0.6927]])\n",
      "\n",
      "And Determinant of r:\n",
      "tensor(-0.0645)\n",
      "\n",
      "Singular value decompostions of r:\n",
      "torch.return_types.svd(\n",
      "U=tensor([[-0.5711, -0.8209],\n",
      "        [-0.8209,  0.5711]]),\n",
      "S=tensor([0.8651, 0.0745]),\n",
      "V=tensor([[ 0.3862, -0.9224],\n",
      "        [ 0.9224,  0.3862]]))\n",
      "\n",
      "Average and standard deviation of r:\n",
      "(tensor(0.2168), tensor(-0.3915))\n",
      "\n",
      "Maximum value of r:\n",
      "tensor(-0.1344)\n"
     ]
    }
   ],
   "source": [
    "r = torch.rand(2,2) - 0.5*2   #values between -1 and 1\n",
    "print('A random matrix, r:')\n",
    "print(r)\n",
    "\n",
    "#Common mathematical operations are supported \n",
    "print('\\nAbsolute value of r:')\n",
    "print(torch.abs(r))\n",
    "\n",
    "#..as are in trigonometrical functions\n",
    "print('\\nInverse sine of r:')\n",
    "print(torch.asin(r))\n",
    "\n",
    "#and linear algebra operations\n",
    "print('\\nAnd Determinant of r:')\n",
    "print(torch.det(r))\n",
    "print('\\nSingular value decompostions of r:')\n",
    "print(torch.svd(r))\n",
    "\n",
    "# and statistical and aggregate operations\n",
    "print('\\nAverage and standard deviation of r:')\n",
    "print(torch.std_mean(r))\n",
    "print('\\nMaximum value of r:')\n",
    "print(torch.max(r))"
   ]
  },
  {
   "cell_type": "code",
   "execution_count": null,
   "id": "0749b275",
   "metadata": {},
   "outputs": [],
   "source": []
  }
 ],
 "metadata": {
  "kernelspec": {
   "display_name": "Python 3 (ipykernel)",
   "language": "python",
   "name": "python3"
  },
  "language_info": {
   "codemirror_mode": {
    "name": "ipython",
    "version": 3
   },
   "file_extension": ".py",
   "mimetype": "text/x-python",
   "name": "python",
   "nbconvert_exporter": "python",
   "pygments_lexer": "ipython3",
   "version": "3.8.13"
  }
 },
 "nbformat": 4,
 "nbformat_minor": 5
}
