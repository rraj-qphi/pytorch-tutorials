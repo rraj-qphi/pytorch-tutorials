{
 "cells": [
  {
   "cell_type": "markdown",
   "id": "0334a8d8",
   "metadata": {},
   "source": [
    "# CNN Model for CIFAR 10 dataset AlexNet Type CNN"
   ]
  },
  {
   "cell_type": "code",
   "execution_count": 1,
   "id": "3c03cc0e",
   "metadata": {},
   "outputs": [],
   "source": [
    "# import libraries\n",
    "\n",
    "import torch\n",
    "import torchvision\n",
    "import torchvision.transforms as transforms"
   ]
  },
  {
   "cell_type": "code",
   "execution_count": 2,
   "id": "760ec4cd",
   "metadata": {},
   "outputs": [
    {
     "data": {
      "text/plain": [
       "device(type='cuda', index=0)"
      ]
     },
     "execution_count": 2,
     "metadata": {},
     "output_type": "execute_result"
    }
   ],
   "source": [
    "# GPUs\n",
    "\n",
    "# Training on GPU\n",
    "\n",
    "device = torch.device('cuda:0' if torch.cuda.is_available() else 'cpu')\n",
    "\n",
    "device"
   ]
  },
  {
   "cell_type": "code",
   "execution_count": 3,
   "id": "35aa6355",
   "metadata": {},
   "outputs": [],
   "source": [
    "# transforming PILImage images of range [0, 1] to transform to range [-1, 1]\n",
    "\n",
    "transform = transforms.Compose(\n",
    "    [transforms.ToTensor(),\n",
    "     transforms.Normalize((0.5, 0.5, 0.5), (0.5, 0.5, 0.5))])"
   ]
  },
  {
   "cell_type": "code",
   "execution_count": 4,
   "id": "248a8406",
   "metadata": {},
   "outputs": [
    {
     "name": "stdout",
     "output_type": "stream",
     "text": [
      "Files already downloaded and verified\n",
      "Files already downloaded and verified\n"
     ]
    }
   ],
   "source": [
    "# importing CIFAR 10 datasets\n",
    "\n",
    "batch_size = 4\n",
    "\n",
    "trainset = torchvision.datasets.CIFAR10(root='./data', download=True, train=True, transform=transform)\n",
    "testset = torchvision.datasets.CIFAR10(root='./data', download=True, train=False, transform=transform)\n",
    "\n",
    "# Data loader\n",
    "\n",
    "train_loader = torch.utils.data.DataLoader(dataset=trainset, batch_size=batch_size, shuffle=True, num_workers=2)\n",
    "test_loader = torch.utils.data.DataLoader(dataset=testset, batch_size=batch_size, shuffle=False, num_workers=2)\n",
    "\n",
    "classes = ('plane', 'car', 'bird', 'cat', 'deer',\n",
    "          'dog', 'frog', 'horse', 'ship', 'truck')"
   ]
  },
  {
   "cell_type": "code",
   "execution_count": 5,
   "id": "85d53df4",
   "metadata": {},
   "outputs": [],
   "source": [
    "# toshow the training images\n",
    "\n",
    "import matplotlib.pyplot as plt\n",
    "import numpy as np\n"
   ]
  },
  {
   "cell_type": "code",
   "execution_count": 6,
   "id": "03597420",
   "metadata": {},
   "outputs": [],
   "source": [
    "# function to show the image\n",
    "\n",
    "def imshow(img):\n",
    "    img = img / 2 + 0.5\n",
    "    npimg = img.numpy()\n",
    "    plt.imshow(np.transpose(npimg, (1, 2, 0)))\n",
    "    plt.show()"
   ]
  },
  {
   "cell_type": "code",
   "execution_count": 7,
   "id": "5e9dc19f",
   "metadata": {},
   "outputs": [
    {
     "data": {
      "image/png": "[encoded data removed]",
      "text/plain": [
       "<Figure size 640x480 with 1 Axes>"
      ]
     },
     "metadata": {},
     "output_type": "display_data"
    },
    {
     "name": "stdout",
     "output_type": "stream",
     "text": [
      "deer  dog   ship  ship \n"
     ]
    }
   ],
   "source": [
    "dataiter = iter(train_loader)\n",
    "images, labels = next(dataiter)\n",
    "                    \n",
    "# show images\n",
    "imshow(torchvision.utils.make_grid(images))\n",
    "\n",
    "# print labels\n",
    "print(' '.join(f'{classes[labels[j]]:5s}' for j in range(batch_size)))"
   ]
  },
  {
   "cell_type": "code",
   "execution_count": 8,
   "id": "e33645e7",
   "metadata": {},
   "outputs": [
    {
     "data": {
      "text/plain": [
       "'import torch.nn as nn\\nimport torch.nn.functional as F\\n\\nclass Net(nn.Module):\\n    # constructor\\n    def __init__(self):\\n        super(Net, self).__init__()\\n        self.conv1 = nn.Conv2d(3, 16, 5)\\n        self.pool = nn.MaxPool2d(2, 2)\\n        self.conv2 = nn.Conv2d(16, 64, 5)\\n        self.fc1 = nn.Linear(64 * 5 * 5, 400)\\n        self.fc2 = nn.Linear(400, 120)\\n        self.fc3 = nn.Linear(120, 10)\\n        \\n    def forward(self, x):\\n        x = self.pool(F.relu(self.conv1(x)))\\n        x = self.pool(F.relu(self.conv2(x)))\\n        x = torch.flatten(x, 1)   # flatte all batches except batch\\n        x = F.relu(self.fc1(x))\\n        x = F.relu(self.fc2(x))\\n        x = self.fc3(x)\\n        \\n        return x'"
      ]
     },
     "execution_count": 8,
     "metadata": {},
     "output_type": "execute_result"
    }
   ],
   "source": [
    "# Define a simple Convolution NN\n",
    "#\n",
    "#import torch.nn as nn\n",
    "#import torch.nn.functional as F\n",
    "#\n",
    "#class Net(nn.Module):\n",
    "#    # constructor\n",
    "#    def __init__(self):\n",
    "#        super(Net, self).__init__()\n",
    "#        self.conv1 = nn.Conv2d(3, 16, 5)\n",
    "#        self.pool = nn.MaxPool2d(2, 2)\n",
    "#        self.conv2 = nn.Conv2d(16, 64, 5)\n",
    "#        self.fc1 = nn.Linear(64 * 5 * 5, 400)\n",
    "#        self.fc2 = nn.Linear(400, 120)\n",
    "#        self.fc3 = nn.Linear(120, 10)\n",
    "#        \n",
    "#    def forward(self, x):\n",
    "#        x = self.pool(F.relu(self.conv1(x)))\n",
    "#        x = self.pool(F.relu(self.conv2(x)))\n",
    "#        x = torch.flatten(x, 1)   # flatte all batches except batch\n",
    "#        x = F.relu(self.fc1(x))\n",
    "#        x = F.relu(self.fc2(x))\n",
    "#        x = self.fc3(x)\n",
    "#        \n",
    "#        return x\n",
    "\n",
    "# Defining the AlexNet Convolutional NN\n",
    "\n",
    "class AlexNet(nn.Module):\n",
    "    # AlexNet proposed by paper \n",
    "    def __init__(self, num_classes=10):\n",
    "        super(AlexNet, self).__init__()\n",
    "        # input image is (b * 3 * 32 * 32)\n",
    "        self.net = nn.Sequential(\n",
    "            nn.Conv2d(in_channels=3, out_channels=96, kernel_size=5),  # (b x 96 x 55 x 55)\n",
    "            nn.ReLU(),\n",
    "            nn.LocalResponseNorm(size=5, alpha=0.0001, beta=0.75, k=2),  # section 3.3\n",
    "            nn.MaxPool2d(kernel_size=3, stride=2),  # (b x 96 x 27 x 27)\n",
    "            nn.Conv2d(96, 256, 5, padding=2),  # (b x 256 x 27 x 27)\n",
    "            nn.ReLU(),\n",
    "            nn.LocalResponseNorm(size=5, alpha=0.0001, beta=0.75, k=2),\n",
    "            nn.MaxPool2d(kernel_size=3, stride=2),  # (b x 256 x 13 x 13)\n",
    "            nn.Conv2d(256, 384, 3, padding=1),  # (b x 384 x 13 x 13)\n",
    "            nn.ReLU(),\n",
    "            nn.Conv2d(384, 384, 3, padding=1),  # (b x 384 x 13 x 13)\n",
    "            nn.ReLU(),\n",
    "            nn.Conv2d(384, 256, 3, padding=1),  # (b x 256 x 13 x 13)\n",
    "            nn.ReLU(),\n",
    "            nn.MaxPool2d(kernel_size=3, stride=2),  # (b x 256 x 6 x 6)\n",
    "        )"
   ]
  },
  {
   "cell_type": "code",
   "execution_count": 9,
   "id": "56c2b7c8",
   "metadata": {},
   "outputs": [
    {
     "data": {
      "text/plain": [
       "Net(\n",
       "  (conv1): Conv2d(3, 16, kernel_size=(5, 5), stride=(1, 1))\n",
       "  (pool): MaxPool2d(kernel_size=2, stride=2, padding=0, dilation=1, ceil_mode=False)\n",
       "  (conv2): Conv2d(16, 64, kernel_size=(5, 5), stride=(1, 1))\n",
       "  (fc1): Linear(in_features=1600, out_features=400, bias=True)\n",
       "  (fc2): Linear(in_features=400, out_features=120, bias=True)\n",
       "  (fc3): Linear(in_features=120, out_features=10, bias=True)\n",
       ")"
      ]
     },
     "execution_count": 9,
     "metadata": {},
     "output_type": "execute_result"
    }
   ],
   "source": [
    "model = Net().to(device)\n",
    "model"
   ]
  },
  {
   "cell_type": "code",
   "execution_count": 10,
   "id": "0e8f20ae",
   "metadata": {},
   "outputs": [],
   "source": [
    "# define criterion, optimizer and loss function\n",
    "\n",
    "criterion = nn.CrossEntropyLoss()\n",
    "optimizer = torch.optim.SGD(model.parameters(), lr=0.001, momentum=0.9)"
   ]
  },
  {
   "cell_type": "code",
   "execution_count": 11,
   "id": "22d13b7e",
   "metadata": {},
   "outputs": [
    {
     "name": "stdout",
     "output_type": "stream",
     "text": [
      "[1,  2000] loss: 2.124\n",
      "[1,  4000] loss: 1.720\n",
      "[1,  6000] loss: 1.553\n",
      "[1,  8000] loss: 1.473\n",
      "[1, 10000] loss: 1.392\n",
      "[1, 12000] loss: 1.321\n",
      "[2,  2000] loss: 1.228\n",
      "[2,  4000] loss: 1.186\n",
      "[2,  6000] loss: 1.153\n",
      "[2,  8000] loss: 1.111\n",
      "[2, 10000] loss: 1.074\n",
      "[2, 12000] loss: 1.066\n",
      "[3,  2000] loss: 0.943\n",
      "[3,  4000] loss: 0.930\n",
      "[3,  6000] loss: 0.927\n",
      "[3,  8000] loss: 0.902\n",
      "[3, 10000] loss: 0.878\n",
      "[3, 12000] loss: 0.896\n",
      "Finished Training\n"
     ]
    }
   ],
   "source": [
    "# TRain hte model\n",
    "\n",
    "for epoch in range(3):\n",
    "    \n",
    "    running_loss = 0.0\n",
    "    for i, data in enumerate(train_loader, 0):\n",
    "        inputs, labels = data\n",
    "        inputs, labels = data[0].to(device), data[1].to(device)\n",
    "        \n",
    "        optimizer.zero_grad()\n",
    "        \n",
    "        outputs = model(inputs)\n",
    "        loss = criterion(outputs, labels)\n",
    "        loss.backward()\n",
    "        optimizer.step()\n",
    "        \n",
    "        running_loss += loss.item()\n",
    "        if i % 2000 == 1999:\n",
    "             # print every 2000 mini-batches\n",
    "            print(f'[{epoch + 1}, {i + 1:5d}] loss: {running_loss / 2000:.3f}')\n",
    "            running_loss = 0.0\n",
    "\n",
    "print('Finished Training')"
   ]
  },
  {
   "cell_type": "code",
   "execution_count": 15,
   "id": "924aec63",
   "metadata": {},
   "outputs": [
    {
     "name": "stdout",
     "output_type": "stream",
     "text": [
      "Accuracy of the network on the 10000 test inputs: 69 %\n",
      "Accuracy of plane : 79 %\n",
      "Accuracy of   car : 86 %\n",
      "Accuracy of  bird : 54 %\n",
      "Accuracy of   cat : 56 %\n",
      "Accuracy of  deer : 51 %\n",
      "Accuracy of   dog : 59 %\n",
      "Accuracy of  frog : 82 %\n",
      "Accuracy of horse : 75 %\n",
      "Accuracy of  ship : 74 %\n",
      "Accuracy of truck : 69 %\n"
     ]
    }
   ],
   "source": [
    "# Test\n",
    "correct = 0\n",
    "total = 0\n",
    "with torch.no_grad():\n",
    "    for data in test_loader:\n",
    "        inputs, labels = data\n",
    "        inputs, labels = inputs.to(device), labels.to(device)\n",
    "        outputs = model(inputs)\n",
    "        _, predicted = torch.max(outputs.data, 1)\n",
    "        total += labels.size(0)\n",
    "        correct += (predicted == labels).sum().item()\n",
    "\n",
    "print('Accuracy of the network on the 10000 test inputs: %d %%' % (100 * correct / total))\n",
    "\n",
    "class_correct = list(0. for i in range(10))\n",
    "class_total = list(0. for i in range(10))\n",
    "with torch.no_grad():\n",
    "    for data in test_loader:\n",
    "        inputs, labels = data\n",
    "        inputs, labels = inputs.to(device), labels.to(device)\n",
    "        outputs = model(inputs)\n",
    "        _, predicted = torch.max(outputs, 1)\n",
    "        c = (predicted == labels).squeeze()\n",
    "        for i in range(3):\n",
    "            label = labels[i]\n",
    "            class_correct[label] += c[i].item()\n",
    "            class_total[label] += 1\n",
    "\n",
    "for i in range(10):\n",
    "    print('Accuracy of %5s : %2d %%' % (classes[i], 100 * class_correct[i] / class_total[i]))\n"
   ]
  },
  {
   "cell_type": "code",
   "execution_count": null,
   "id": "30e23555",
   "metadata": {},
   "outputs": [],
   "source": []
  }
 ],
 "metadata": {
  "kernelspec": {
   "display_name": "Python 3 (ipykernel)",
   "language": "python",
   "name": "python3"
  },
  "language_info": {
   "codemirror_mode": {
    "name": "ipython",
    "version": 3
   },
   "file_extension": ".py",
   "mimetype": "text/x-python",
   "name": "python",
   "nbconvert_exporter": "python",
   "pygments_lexer": "ipython3",
   "version": "3.8.13"
  }
 },
 "nbformat": 4,
 "nbformat_minor": 5
}
